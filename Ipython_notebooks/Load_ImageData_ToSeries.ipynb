{
 "cells": [
  {
   "cell_type": "markdown",
   "metadata": {},
   "source": [
    "# Testing Parapineal Ablation Data on a new Ipython notebook based Thunder script"
   ]
  },
  {
   "cell_type": "markdown",
   "metadata": {},
   "source": [
    "To start this file through pyspark use :\n",
    "`$SPARK_HOME/bin/pyspark --jars /Users/seetha/anaconda/lib/python2.7/site-packages/thunder/lib/thunder_2.10-0.5.1.jar --driver-class-path /Users/seetha/anaconda/lib/python2.7/site-packages/thunder/lib/thunder_2.10-0.5.1.jar`"
   ]
  },
  {
   "cell_type": "markdown",
   "metadata": {},
   "source": [
    "### Decorators"
   ]
  },
  {
   "cell_type": "code",
   "execution_count": 1,
   "metadata": {},
   "outputs": [],
   "source": [
    "def format_for_linegraphplotting(plotting_function):\n",
    "    def wrapper(*args, **kwargs):\n",
    "        \n",
    "        current_palette = sns.color_palette()\n",
    "        ax1.set_color_cycle(current_palette)\n",
    "\n",
    "\n",
    "        for key, value in kwargs.iteritems():\n",
    "            if key=='xlim_input':\n",
    "                ax1.set_xlim(value)\n",
    "            if key=='num_bins':\n",
    "                ax1.locator_params(axis='y', nbins=value)\n",
    "            if key=='ylim_input':\n",
    "                ax1.set_ylim(value)\n",
    "                \n",
    "        fs.patch.set_facecolor('black')\n",
    "        \n",
    "        for loc, spine in ax1.spines.items():\n",
    "            spine.set_color('white')\n",
    "            spine.set_linewidth(0.5)\n",
    "        \n",
    "        ax1.set_axis_bgcolor('black')\n",
    "        ax1.title.set_color('white')\n",
    "        ax1.yaxis.label.set_color('white')\n",
    "        ax1.xaxis.label.set_color('white')        \n",
    "        ax1.tick_params(axis='both', colors='white', \n",
    "                        direction='out', labelsize=15)        \n",
    "        ax1.get_xaxis().tick_bottom()\n",
    "        ax1.get_yaxis().tick_left()\n",
    "        \n",
    "        plotting_function(*args, **kwargs)\n",
    "        \n",
    "    return wrapper"
   ]
  },
  {
   "cell_type": "markdown",
   "metadata": {},
   "source": [
    "### Set up Plotting"
   ]
  },
  {
   "cell_type": "code",
   "execution_count": 2,
   "metadata": {},
   "outputs": [],
   "source": [
    "#Set seaborn plotting formats\n",
    "import seaborn as sns\n",
    "sns.set_style('darkgrid')\n",
    "sns.set_context('notebook')"
   ]
  },
  {
   "cell_type": "code",
   "execution_count": 3,
   "metadata": {},
   "outputs": [],
   "source": [
    "# Plot planes in the given image as subplot\n",
    "def PlotImagePlanes(img):\n",
    "    numz = np.size(img,2)\n",
    "    num_subplots = int((math.ceil(numz / 2.) * 2)/2)\n",
    "\n",
    "    fig1 = plt.figure(figsize=(15,10))\n",
    "    for ii in xrange(0, numz):    \n",
    "        ax1 = fig1.add_subplot(num_subplots,2,ii+1)\n",
    "        ax1 = image(img[:,:,ii])    \n",
    "        ax1.title.set_color('white')\n",
    "        plt.title('Plane: ' + str(ii+1), fontsize=12)\n",
    "    plt.show()"
   ]
  },
  {
   "cell_type": "markdown",
   "metadata": {},
   "source": [
    "## 1. Run Thunder"
   ]
  },
  {
   "cell_type": "code",
   "execution_count": 4,
   "metadata": {},
   "outputs": [],
   "source": [
    "# Create new config - To avoid maxResultSize error. Stop Spark context and reload ThunderContext\n",
    "from thunder import ThunderContext\n",
    "from pyspark import SparkConf, SparkContext\n",
    "\n",
    "conf = (SparkConf()\n",
    "    .set(\"spark.driver.maxResultSize\", \"0\"))\n",
    "\n",
    "sc.stop()\n",
    "# Create new thunder context using the configuration\n",
    "tsc = ThunderContext.start(appName=\"thunderpca\", conf=conf)"
   ]
  },
  {
   "cell_type": "markdown",
   "metadata": {},
   "source": [
    "## 2. Get user input"
   ]
  },
  {
   "cell_type": "code",
   "execution_count": 5,
   "metadata": {},
   "outputs": [],
   "source": [
    "#Provide Folder from which to get data\n",
    "foldername = '/Users/seetha/Desktop/Parapineal_Ablation/Data/01_Zoom=2/Tiff/Sorted/Red_First/Fish1159/Block3/'"
   ]
  },
  {
   "cell_type": "markdown",
   "metadata": {},
   "source": [
    "## 3. Load Libraries"
   ]
  },
  {
   "cell_type": "code",
   "execution_count": 6,
   "metadata": {},
   "outputs": [],
   "source": [
    "#Matplotlib plots to be inline in the notebook\n",
    "%matplotlib inline"
   ]
  },
  {
   "cell_type": "code",
   "execution_count": 7,
   "metadata": {},
   "outputs": [],
   "source": [
    "#Import Python libraries\n",
    "import matplotlib.pyplot as plt\n",
    "import numpy as np\n",
    "import math\n",
    "import os\n",
    "import glob\n",
    "import shutil\n",
    "from progressbar import ProgressBar"
   ]
  },
  {
   "cell_type": "code",
   "execution_count": 8,
   "metadata": {},
   "outputs": [],
   "source": [
    "#Import Thunder libraries\n",
    "from thunder import Colorize\n",
    "image = Colorize.image"
   ]
  },
  {
   "cell_type": "markdown",
   "metadata": {},
   "source": [
    "## 4 Load Images from Folder using Thunder Context"
   ]
  },
  {
   "cell_type": "code",
   "execution_count": 9,
   "metadata": {},
   "outputs": [],
   "source": [
    "#Load data as tif\n",
    "data = tsc.loadImages(foldername, inputFormat='tif-stack')"
   ]
  },
  {
   "cell_type": "markdown",
   "metadata": {},
   "source": [
    "### a. Do some plotting"
   ]
  },
  {
   "cell_type": "code",
   "execution_count": 11,
   "metadata": {},
   "outputs": [],
   "source": [
    "examples = data.toTimeSeries().subset(nsamples=100, thresh=1)"
   ]
  },
  {
   "cell_type": "code",
   "execution_count": 12,
   "metadata": {},
   "outputs": [
    {
     "name": "stdout",
     "output_type": "stream",
     "text": [
      "(100, 285)\n"
     ]
    }
   ],
   "source": [
    "print np.shape(examples)"
   ]
  },
  {
   "cell_type": "code",
   "execution_count": 16,
   "metadata": {},
   "outputs": [],
   "source": [
    "to_plot = np.mean(examples,axis=0)"
   ]
  },
  {
   "cell_type": "code",
   "execution_count": 18,
   "metadata": {},
   "outputs": [
    {
     "data": {
      "image/png": "[encoded data removed]"
     },
     "output_type": "display_data",
     "metadata": {}
    }
   ],
   "source": [
    "fs = plt.figure(figsize=(5,5))\n",
    "ax1 = fs.add_subplot((111))\n",
    "@format_for_linegraphplotting\n",
    "def plot_mean(fs, ax1, data_to_plot, **kwargs):    \n",
    "    plt.plot(to_plot)\n",
    "    plt.show()\n",
    "plot_mean(fs, ax1, to_plot, num_bins=5, xlim_input=[0,285])"
   ]
  },
  {
   "cell_type": "code",
   "execution_count": null,
   "metadata": {},
   "outputs": [],
   "source": [
    "print examples.dims.count"
   ]
  },
  {
   "cell_type": "code",
   "execution_count": null,
   "metadata": {},
   "outputs": [],
   "source": [
    "# Get the first image in data and plot\n",
    "img = data.first()[1]\n",
    "PlotImagePlanes(img)"
   ]
  },
  {
   "cell_type": "code",
   "execution_count": null,
   "metadata": {},
   "outputs": [],
   "source": [
    "# Print some info on the data\n",
    "print 'Shape of first image: ' + str(np.shape(img))\n",
    "print 'Number of dimensions of data ' + str(data.dims)\n",
    "print 'Total number of time points ' + str(data.nrecords)"
   ]
  },
  {
   "cell_type": "code",
   "execution_count": null,
   "metadata": {},
   "outputs": [],
   "source": [
    "# Looking at images with paricular indices and plot\n",
    "index = 28\n",
    "img = data[index]\n",
    "PlotImagePlanes(img)\n",
    "print 'Shape of image number '+ str(index) + ' : '+ str(np.shape(img))"
   ]
  },
  {
   "cell_type": "markdown",
   "metadata": {},
   "source": [
    "## 5. Max Projection of planes, Standard Deviations"
   ]
  },
  {
   "cell_type": "code",
   "execution_count": null,
   "metadata": {},
   "outputs": [],
   "source": [
    "# Plot maximum projections and standard deviation\n",
    "projs = data.maxProjection(axis=2)\n",
    "img = projs[index]\n",
    "fig1 = plt.figure(figsize=(10,10))\n",
    "image(img)"
   ]
  },
  {
   "cell_type": "code",
   "execution_count": null,
   "metadata": {},
   "outputs": [],
   "source": [
    "img = data.stdev()"
   ]
  },
  {
   "cell_type": "code",
   "execution_count": null,
   "metadata": {},
   "outputs": [],
   "source": [
    "PlotImagePlanes(img)"
   ]
  },
  {
   "cell_type": "code",
   "execution_count": null,
   "metadata": {},
   "outputs": [],
   "source": [
    "print np.shape(img)"
   ]
  },
  {
   "cell_type": "markdown",
   "metadata": {},
   "source": [
    "## 6. Save as series"
   ]
  },
  {
   "cell_type": "code",
   "execution_count": null,
   "metadata": {},
   "outputs": [],
   "source": [
    "#Create binary folder\n",
    "binaryfolder = os.path.join(foldername, 'Binary_Files')\n",
    "if not os.path.exists(binaryfolder):\n",
    "        os.makedirs(binaryfolder)  \n",
    "else:\n",
    "    #Overwrite if binary file is present\n",
    "    if glob.glob(binaryfolder+'/*.bin'):\n",
    "        overwrite_flag = True\n",
    "    else:\n",
    "        overwrite_flag = False\n",
    "        \n",
    "print 'Saving to...' + binaryfolder\n",
    "\n",
    "#Save to series\n",
    "data.saveAsBinarySeries(binaryfolder, overwrite=overwrite_flag) #Warning: if overwrite=True the whole directory is erased"
   ]
  },
  {
   "cell_type": "code",
   "execution_count": null,
   "metadata": {},
   "outputs": [],
   "source": [
    "# Convert to html\n",
    "!ipython nbconvert --to html Load_ImageData_ToSeries.ipynb"
   ]
  },
  {
   "cell_type": "code",
   "execution_count": null,
   "metadata": {},
   "outputs": [],
   "source": [
    "#Save in appropriate folder\n",
    "path_list = foldername.split(os.sep)\n",
    "fishnumber = [s for s in path_list if \"Fish\" in s]\n",
    "blocknumber = [s for s in path_list if \"Block\" in s]\n",
    "filenamesuffix = str(fishnumber)[2:-2] + '_' + str(blocknumber)[2:-2] +'_'\n",
    "savefolder = os.path.join(foldername, 'Ipython_NB/')\n",
    "if not os.path.exists(savefolder):\n",
    "        os.makedirs(savefolder)  \n",
    "        \n",
    "os.rename(os.path.join(os.getcwd(),\"Load_ImageData_ToSeries.html\"), os.path.join(savefolder, filenamesuffix+\"PlotImageData.html\"))\n",
    "shutil.copy(os.path.join(os.getcwd(),\"Load_ImageData_ToSeries.ipynb\"), os.path.join(savefolder, filenamesuffix+\"PlotImageData.ipynb\"))"
   ]
  }
 ],
 "metadata": {
  "css": [
   ""
  ],
  "kernelspec": {
   "display_name": "Python 2",
   "language": "python",
   "name": "python2"
  },
  "language_info": {
   "codemirror_mode": {
    "name": "ipython",
    "version": 2.0
   },
   "file_extension": ".py",
   "mimetype": "text/x-python",
   "name": "python",
   "nbconvert_exporter": "python",
   "pygments_lexer": "ipython2",
   "version": "2.7.10"
  }
 },
 "nbformat": 4,
 "nbformat_minor": 0
}