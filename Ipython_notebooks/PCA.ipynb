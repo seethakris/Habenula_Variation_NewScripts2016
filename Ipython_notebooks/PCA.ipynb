{
 "cells": [
  {
   "cell_type": "code",
   "execution_count": null,
   "metadata": {
    "collapsed": true
   },
   "outputs": [],
   "source": [
    "FileName = '/Users/seetha/Desktop/Habenula_Variation/Data/Habenula_AF4_Blue_Redx3/Tiff/Registered/Sorted/Fish1253/dHb/'\n",
    "\n",
    "# PCA parameters \n",
    "pca_components = 4  # Number of pca components to detect from files\n",
    "num_pca_colors = 50  # Number of colors on the pca maps\n",
    "num_samples = 10000  # number of random samples to select to do PCA reconstruction\n",
    "thresh_pca = 0.001  # Threshold above which to plot the pca components\n",
    "color_map = \"polar\"\n",
    "\n",
    "stimulus_on_time = [46, 86, 126, 166, 206, 246]\n",
    "stimulus_off_time = [65, 106, 146, 186, 226, 266]\n",
    "color_mat = ['#00FFFF', '#FF0000', '#0000FF', '#FF1493', '#3090C7', '#800000']\n",
    "time_baseline = [10, 30]"
   ]
  },
  {
   "cell_type": "code",
   "execution_count": null,
   "metadata": {
    "collapsed": true
   },
   "outputs": [],
   "source": [
    "import seaborn as sns\n",
    "import matplotlib.pyplot as plt\n",
    "import numpy as np\n",
    "%matplotlib inline\n",
    "sns.set_context('notebook');"
   ]
  },
  {
   "cell_type": "code",
   "execution_count": null,
   "metadata": {
    "collapsed": false
   },
   "outputs": [],
   "source": [
    "from thunder import ThunderContext\n",
    "print 'Starting Thunder Now. Check console for details'\n",
    "tsc = ThunderContext.start(appName=\"thunderpca\")"
   ]
  },
  {
   "cell_type": "code",
   "execution_count": null,
   "metadata": {
    "collapsed": true
   },
   "outputs": [],
   "source": [
    "from thunder import Colorize\n",
    "image = Colorize.image"
   ]
  },
  {
   "cell_type": "code",
   "execution_count": null,
   "metadata": {
    "collapsed": true
   },
   "outputs": [],
   "source": [
    "def plot_vertical_lines_onset(stimulus_on_time):\n",
    "    for ii in xrange(0, np.size(stimulus_on_time)):\n",
    "        plt.axvline(x=stimulus_on_time[ii], linestyle='-', color='k', linewidth=1)\n",
    "def plot_vertical_lines_offset(stimulus_off_time):\n",
    "    for ii in xrange(0, np.size(stimulus_off_time)):\n",
    "        plt.axvline(x=stimulus_off_time[ii], linestyle='--', color='k', linewidth=1)"
   ]
  },
  {
   "cell_type": "code",
   "execution_count": null,
   "metadata": {
    "collapsed": false
   },
   "outputs": [],
   "source": [
    "data = tsc.loadImages(FileName, inputFormat='tif')\n",
    "data = data.medianFilter(size=4)\n",
    "data = data.toTimeSeries() #detrend(method='linear',order=10)"
   ]
  },
  {
   "cell_type": "code",
   "execution_count": null,
   "metadata": {
    "collapsed": false
   },
   "outputs": [],
   "source": [
    "data.cache()\n",
    "A1 = data.pack()\n",
    "print np.shape(A1)\n",
    "image(np.mean(A1,0))"
   ]
  },
  {
   "cell_type": "code",
   "execution_count": null,
   "metadata": {
    "collapsed": true
   },
   "outputs": [],
   "source": [
    "stdMap = data.seriesStdev().pack()"
   ]
  },
  {
   "cell_type": "code",
   "execution_count": null,
   "metadata": {
    "collapsed": false
   },
   "outputs": [],
   "source": [
    "image(stdMap>4)"
   ]
  },
  {
   "cell_type": "code",
   "execution_count": null,
   "metadata": {
    "collapsed": false
   },
   "outputs": [],
   "source": [
    "np.where(np.isinf(A1))"
   ]
  },
  {
   "cell_type": "code",
   "execution_count": null,
   "metadata": {
    "collapsed": false
   },
   "outputs": [],
   "source": [
    "A11 = np.mean(np.reshape(A1, (np.size(A1,0), np.size(A1,1)*np.size(A1,2))),1, dtype=np.float64)\n",
    "print A1.dtype\n",
    "print np.where(np.isinf(A11))\n",
    "print np.where(np.isnan(A11))\n",
    "print np.max(A11)\n",
    "print np.shape(A11)\n",
    "plt.plot(A11);"
   ]
  },
  {
   "cell_type": "code",
   "execution_count": null,
   "metadata": {
    "collapsed": true
   },
   "outputs": [],
   "source": [
    "from numpy import std\n",
    "data_filtered = data.filterOnValues(lambda x: std(x) > 4)"
   ]
  },
  {
   "cell_type": "markdown",
   "metadata": {
    "collapsed": true
   },
   "source": [
    "data_filtered = tsc.loadSeries(FileName, inputFormat='text', \n",
    "                               nkeys=3).toTimeSeries().detrend(method='linear', order=10)"
   ]
  },
  {
   "cell_type": "code",
   "execution_count": null,
   "metadata": {
    "collapsed": false
   },
   "outputs": [],
   "source": [
    "zscore_data = data.squelch(100).zscore(axis=1, baseline=time_baseline)\n",
    "zscore_data.cache()\n",
    "# zscore_data.dims"
   ]
  },
  {
   "cell_type": "code",
   "execution_count": null,
   "metadata": {
    "collapsed": false
   },
   "outputs": [],
   "source": [
    "A3 = zscore_data.pack()\n",
    "image(np.mean(A3,0))"
   ]
  },
  {
   "cell_type": "code",
   "execution_count": null,
   "metadata": {
    "collapsed": false
   },
   "outputs": [],
   "source": [
    "examples = zscore_data.subset(nsamples=200, thresh=3)\n",
    "with sns.axes_style('darkgrid'):\n",
    "    plt.plot(examples.T);\n",
    "    plt.plot(np.mean(examples,0), 'k', linewidth=2)\n",
    "    plot_vertical_lines_onset(stimulus_on_time)\n",
    "    plot_vertical_lines_offset(stimulus_off_time)"
   ]
  },
  {
   "cell_type": "code",
   "execution_count": null,
   "metadata": {
    "collapsed": false
   },
   "outputs": [],
   "source": [
    "Max = zscore_data.max()\n",
    "Mean = zscore_data.mean()\n",
    "Min = zscore_data.min()"
   ]
  },
  {
   "cell_type": "code",
   "execution_count": null,
   "metadata": {
    "collapsed": false
   },
   "outputs": [],
   "source": [
    "print np.shape(Max)\n",
    "sum(Max)"
   ]
  },
  {
   "cell_type": "code",
   "execution_count": null,
   "metadata": {
    "collapsed": false
   },
   "outputs": [],
   "source": [
    "with sns.axes_style('darkgrid'):\n",
    "    plt.plot(Max, label='maximum');\n",
    "    plt.plot(Mean, label='mean');\n",
    "    plt.plot(Min, label='minimum');\n",
    "    plot_vertical_lines_onset(stimulus_on_time)\n",
    "    plot_vertical_lines_offset(stimulus_off_time)\n",
    "    plt.legend()"
   ]
  },
  {
   "cell_type": "code",
   "execution_count": null,
   "metadata": {
    "collapsed": true
   },
   "outputs": [],
   "source": [
    "from thunder import PCA\n",
    "required_pcs = [0, 1, 2]\n",
    "\n",
    "model = PCA(k=3).fit(zscore_data)\n",
    "imgs = model.scores.pack()\n",
    "reference = data.seriesMean().pack()\n",
    "maps = Colorize(cmap='polar', scale=100).transform(imgs, background=reference, mixing=0.5)\n",
    "\n",
    "\n",
    "with sns.axes_style('dark'):\n",
    "    plt.plot(model.comps.T);\n",
    "    plot_vertical_lines_onset(stimulus_on_time)\n",
    "    plot_vertical_lines_offset(stimulus_off_time)\n",
    "    sns.axlabel(\"Time (seconds)\", \"a.u\")\n",
    "    A = []\n",
    "    for ii in xrange(0, np.size(model.comps.T, 1)):\n",
    "        A = np.append(A, [str(ii)])\n",
    "    plt.legend(A, loc=4)\n",
    "    plt.axhline(y=0, linestyle='-', color='k', linewidth=1)"
   ]
  },
  {
   "cell_type": "code",
   "execution_count": null,
   "metadata": {
    "code_folding": [
     0
    ],
    "collapsed": false
   },
   "outputs": [],
   "source": [
    "def plot_stimulus_in_3d(ax1, pca_components, stimulus_on_time, stimulus_off_time, color_mat,\n",
    "                        required_pcs, z_direction):\n",
    "    ## Plot Baseline at beginning\n",
    "    ax1.plot(pca_components[0:stimulus_on_time[0], required_pcs[0]], \n",
    "             pca_components[0:stimulus_on_time[0], required_pcs[1]], \n",
    "             pca_components[0:stimulus_on_time[0], required_pcs[2]], zdir=z_direction, color='#808080', linewidth=3)\n",
    "\n",
    "    print np.shape(pca_components)\n",
    "\n",
    "    # Plot light on times\n",
    "    for ii in xrange(0, np.size(stimulus_on_time)):\n",
    "        ax1.plot(pca_components[stimulus_on_time[ii]:stimulus_off_time[ii], required_pcs[0]], \n",
    "                 pca_components[stimulus_on_time[ii]:stimulus_off_time[ii], required_pcs[1]], \n",
    "                 pca_components[stimulus_on_time[ii]:stimulus_off_time[ii], required_pcs[2]], zdir=z_direction,\n",
    "                 color=color_mat[ii], linewidth=3)\n",
    "\n",
    "    # Plot light off times\n",
    "    for ii in xrange(0, np.size(stimulus_on_time)):\n",
    "        if ii == np.size(stimulus_on_time) - 1:\n",
    "            #            print ii\n",
    "            ax1.plot(pca_components[stimulus_off_time[ii]:stimulus_off_time[ii] + 20, required_pcs[0]], \n",
    "                     pca_components[stimulus_off_time[ii]:stimulus_off_time[ii] + 20, required_pcs[1]], \n",
    "                     pca_components[stimulus_off_time[ii]:stimulus_off_time[ii] + 20, required_pcs[2]],\n",
    "                     zdir=z_direction, color=color_mat[ii], linewidth=2, linestyle='--')\n",
    "        else:\n",
    "\n",
    "            ax1.plot(pca_components[stimulus_off_time[ii]:stimulus_on_time[ii + 1], required_pcs[0]], \n",
    "                     pca_components[stimulus_off_time[ii]:stimulus_on_time[ii + 1], required_pcs[1]], \n",
    "                     pca_components[stimulus_off_time[ii]:stimulus_on_time[ii + 1], required_pcs[2]], zdir=z_direction,\n",
    "                     color=color_mat[ii], linewidth=2, linestyle='--')\n",
    "\n",
    "    ## Plot Baseline at end of stimulus\n",
    "    ax1.plot(pca_components[stimulus_off_time[ii] + 20:, required_pcs[0]], \n",
    "             pca_components[stimulus_off_time[ii] + 20:, required_pcs[1]], \n",
    "             pca_components[stimulus_off_time[ii] + 20:, required_pcs[2]], zdir=z_direction, color='#000000',\n",
    "             linewidth=3)"
   ]
  },
  {
   "cell_type": "code",
   "execution_count": null,
   "metadata": {
    "code_folding": [],
    "collapsed": false
   },
   "outputs": [],
   "source": [
    "from mpl_toolkits.mplot3d import Axes3D\n",
    "pca_components = model.comps.T\n",
    "with sns.axes_style('dark'):\n",
    "    fig1 = plt.figure()\n",
    "    ax1 = fig1.add_subplot(111, projection='3d')\n",
    "    plot_stimulus_in_3d(ax1, pca_components, stimulus_on_time, stimulus_off_time,color_mat,\n",
    "                        required_pcs, 'y')"
   ]
  },
  {
   "cell_type": "code",
   "execution_count": null,
   "metadata": {
    "code_folding": [],
    "collapsed": false
   },
   "outputs": [],
   "source": [
    "from numpy import amax\n",
    "image(maps, clim=(-0.01, 0.01))"
   ]
  },
  {
   "cell_type": "code",
   "execution_count": null,
   "metadata": {
    "collapsed": false
   },
   "outputs": [],
   "source": [
    "from numpy import asarray\n",
    "from numpy import newaxis, squeeze\n",
    "pts = model.scores.subset(10, thresh=0.05, stat='norm')\n",
    "recon = asarray(map(lambda x: (x[0] * model.comps[0, :] + x[1] * model.comps[1, :]).tolist(), pts))\n",
    "clrs = Colorize(cmap='polar', scale=100).transform([pts[:,0][:,newaxis], pts[:,1][:,newaxis]]).squeeze()\n",
    "with sns.axes_style('dark'):\n",
    "    fs = plt.figure(figsize=(15,10))\n",
    "    plt.gca().set_color_cycle(clrs)\n",
    "    plt.plot(recon.T);\n",
    "    plot_vertical_lines_onset(stimulus_on_time)\n",
    "    plot_vertical_lines_offset(stimulus_off_time)\n",
    "    plt.axhline(y=0, linestyle='-', color='k', linewidth=1)"
   ]
  },
  {
   "cell_type": "code",
   "execution_count": null,
   "metadata": {
    "collapsed": true
   },
   "outputs": [],
   "source": []
  }
 ],
 "metadata": {
  "kernelspec": {
   "display_name": "Python 2",
   "language": "python",
   "name": "python2"
  },
  "language_info": {
   "codemirror_mode": {
    "name": "ipython",
    "version": 2
   },
   "file_extension": ".py",
   "mimetype": "text/x-python",
   "name": "python",
   "nbconvert_exporter": "python",
   "pygments_lexer": "ipython2",
   "version": "2.7.10"
  }
 },
 "nbformat": 4,
 "nbformat_minor": 0
}
