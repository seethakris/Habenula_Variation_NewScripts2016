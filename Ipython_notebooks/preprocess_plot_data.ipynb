{
 "cells": [
  {
   "cell_type": "markdown",
   "metadata": {},
   "source": [
    "# Acquire Data, Preprocess and plot - without thunder"
   ]
  },
  {
   "cell_type": "markdown",
   "metadata": {},
   "source": [
    "## 1. Get user input"
   ]
  },
  {
   "cell_type": "code",
   "execution_count": 9,
   "metadata": {},
   "outputs": [],
   "source": [
    "# Provide Folder from which to get data\n",
    "foldername = '/Users/seetha/Desktop/Habenula/Data/Fish104/Block1/'\n",
    "\n",
    "# Image sizes\n",
    "img_size_x = 512\n",
    "img_size_y = 512\n",
    "img_size_crop_x1 = 290\n",
    "img_size_crop_x2 = 20\n",
    "img_size_crop_y1 = 20\n",
    "img_size_crop_y2 = 20\n",
    "\n",
    "# Background subtraction ROI\n",
    "bg_roi = 0\n",
    "\n",
    "# Stimulus on and off time\n",
    "stimulus_on_time = [46, 98, 142, 194]\n",
    "stimulus_off_time = [65, 117, 161, 213]"
   ]
  },
  {
   "cell_type": "markdown",
   "metadata": {},
   "source": [
    "## 2. Libraries"
   ]
  },
  {
   "cell_type": "markdown",
   "metadata": {},
   "source": [
    "### Import modules required by this function"
   ]
  },
  {
   "cell_type": "code",
   "execution_count": 2,
   "metadata": {},
   "outputs": [],
   "source": [
    "import os, sys\n",
    "MODULES_DIR = '/Users/seetha/Desktop/my_cool_python_functions/for_plotting/'\n",
    "sys.path.append(os.path.dirname(MODULES_DIR))\n",
    "MODULES_DIR = '/Users/seetha/Desktop/my_cool_python_functions/for_opening_data/'\n",
    "sys.path.append(os.path.dirname(MODULES_DIR))"
   ]
  },
  {
   "cell_type": "markdown",
   "metadata": {},
   "source": [
    "### Import libraries"
   ]
  },
  {
   "cell_type": "code",
   "execution_count": 3,
   "metadata": {},
   "outputs": [],
   "source": [
    "from libtiff import TIFF\n",
    "from tifffile import TiffFile\n",
    "import numpy as np\n",
    "import os\n",
    "import PIL.Image as pil\n",
    "import math\n",
    "import matplotlib.pyplot as plt\n",
    "import seaborn as sns"
   ]
  },
  {
   "cell_type": "markdown",
   "metadata": {},
   "source": [
    "### Import user defined libraries"
   ]
  },
  {
   "cell_type": "code",
   "execution_count": null,
   "metadata": {},
   "outputs": [],
   "source": [
    "from open_process_data import PreprocessData\n",
    "OpenPreprocessData = PreprocessData(stimulus_on_time, stimulus_off_time)"
   ]
  },
  {
   "cell_type": "code",
   "execution_count": 4,
   "metadata": {},
   "outputs": [],
   "source": [
    "from plotting_functions import FormatForPlotting\n",
    "Format_to_plot = FormatForPlotting(stimulus_on_time, stimulus_off_time)\n",
    "heatmapplotting = Format_to_plot.heatmapplotting\n",
    "linegraphplotting = Format_to_plot.linegraphplotting"
   ]
  },
  {
   "cell_type": "code",
   "execution_count": 5,
   "metadata": {},
   "outputs": [],
   "source": [
    "#Import Thunder libraries\n",
    "from thunder import Colorize\n",
    "image = Colorize.image"
   ]
  },
  {
   "cell_type": "code",
   "execution_count": 6,
   "metadata": {},
   "outputs": [],
   "source": [
    "#Matplotlib plots to be inline in the notebook\n",
    "%matplotlib inline"
   ]
  },
  {
   "cell_type": "markdown",
   "metadata": {},
   "source": [
    "### Define functions"
   ]
  },
  {
   "cell_type": "code",
   "execution_count": 10,
   "metadata": {},
   "outputs": [],
   "source": [
    "# Plot planes in the given image as subplot\n",
    "def PlotImagePlanes(img):\n",
    "    print 'Image Size = ' + str(np.shape(data_raw))\n",
    "    numz = np.size(img,2)\n",
    "    num_subplots = int((math.ceil(numz / 2.) * 2)/2)\n",
    "    fig1 = plt.figure(figsize=(15,10))\n",
    "    for ii in xrange(0, numz):    \n",
    "        ax1 = fig1.add_subplot(num_subplots,2,ii+1)\n",
    "        ax1 = image(np.mean(img[:,:,ii,:],2))    \n",
    "        plt.title('Plane: ' + str(ii+1), fontsize=12, color='white')\n",
    "    plt.show()"
   ]
  },
  {
   "cell_type": "code",
   "execution_count": 9,
   "metadata": {},
   "outputs": [],
   "source": [
    "def get_tif_images_raw(data, lst, onlyfiles, text_file, tif, \n",
    "                       img_size_x, img_size_y, img_size_crop_x1, img_size_crop_x2, img_size_crop_y1, img_size_crop_y2):\n",
    "    count_z = 0\n",
    "\n",
    "    # Store tiff in numpy array data\n",
    "    for image in tif.iter_images():\n",
    "\n",
    "        ##Resizing if required\n",
    "        if np.size(image, 1) != img_size_y or np.size(image, 0) != img_size_x:\n",
    "            if lst == 1 and count_z == 0:\n",
    "                print \"Resizing image...\"\n",
    "            temp_image = pil.Image.fromarray(image)\n",
    "            temp_image1 = np.array(temp_image.resize((img_size_y, img_size_x), pil.Image.NEAREST))\n",
    "            temp_image1.transpose()\n",
    "        else:\n",
    "            temp_image1 = image\n",
    "\n",
    "        # Cropping unwanted pixels if required\n",
    "        if img_size_crop_x1 != 0 and img_size_crop_y1 != 0:\n",
    "            if lst == 1 and count_z == 0:\n",
    "                print \"Cropping x and y pixels..\"\n",
    "            temp_image2 = temp_image1[img_size_crop_x1:-img_size_crop_x2, img_size_crop_y1:-img_size_crop_y2]\n",
    "        elif img_size_crop_x1 != 0 and img_size_crop_y1 == 0:\n",
    "            if lst == 1 and count_z == 0:\n",
    "                print \"Cropping only x pixels..\"\n",
    "            temp_image2 = temp_image1[img_size_crop_x1:-img_size_crop_x2, :]\n",
    "        elif img_size_crop_x1 == 0 and img_size_crop_y1 != 0:\n",
    "            if lst == 1 and count_z == 0:\n",
    "                print \"Cropping only x pixels..\"\n",
    "            temp_image2 = temp_image1[:, img_size_crop_y1:-img_size_crop_y2]\n",
    "        else:\n",
    "            temp_image2 = temp_image1\n",
    "\n",
    "        data[:, :, count_z, lst - 1] = temp_image2\n",
    "        count_z = count_z + 1\n",
    "\n",
    "    return data"
   ]
  },
  {
   "cell_type": "markdown",
   "metadata": {},
   "source": [
    "## 2. Get tiff files from folder"
   ]
  },
  {
   "cell_type": "code",
   "execution_count": 12,
   "metadata": {},
   "outputs": [
    {
     "name": "stdout",
     "output_type": "stream",
     "text": [
      "(202, 472, 5, 311)\n",
      "5\n",
      "(512, 512, 5)\n"
     ]
    }
   ],
   "source": [
    "# Get names of all tiff files in the directory\n",
    "onlyfiles = [f for f in os.listdir(foldername) \n",
    "             if (os.path.isfile(os.path.join(foldername, f)) \n",
    "                 and f.find('.tif') > 0 and f.find('T=') >= 0)]\n",
    "\n",
    "\n",
    "for lst in xrange(1, np.size(onlyfiles, axis=0) + 1):\n",
    "    tifffile_name = foldername + 'T=' + str(lst) + '.tif'\n",
    "    with TiffFile(tifffile_name) as tif:\n",
    "        tif1 = tif.asarray()\n",
    "        \n",
    "        if len(np.shape(tif1)) == 3:\n",
    "            tif1 = tif1.transpose((1,2,0))\n",
    "            count_z = np.size(tif1,2)\n",
    "            \n",
    "            \n",
    "        if lst == 1:\n",
    "            data_filtered = np.zeros((img_size_x - (img_size_crop_x1 + img_size_crop_x2),\n",
    "                                      img_size_y - (img_size_crop_y1 + img_size_crop_y2), count_z,\n",
    "                                      np.size(onlyfiles, 0)), dtype=np.uint8)\n",
    "            \n",
    "\n",
    "            print np.shape(data_filtered)\n",
    "            print count_z\n",
    "            print np.shape(tif1)"
   ]
  },
  {
   "cell_type": "code",
   "execution_count": null,
   "metadata": {},
   "outputs": [],
   "source": [
    "if lst == 1:\n",
    "        count_z = np.size(tif1,0)\n",
    "\n",
    "        data_raw = np.zeros((img_size_x, img_size_y, count_z, np.size(onlyfiles, 0)), dtype=np.uint8)\n",
    "        \n",
    "    data_raw = get_tif_images_raw(data_raw, lst, onlyfiles, tif1, \n",
    "                                  img_size_x, img_size_y, img_size_crop_x1, img_size_crop_x2, img_size_crop_y1,\n",
    "                                  img_size_crop_y2, bg_roi)"
   ]
  },
  {
   "cell_type": "markdown",
   "metadata": {},
   "source": [
    "### Plot planes"
   ]
  },
  {
   "cell_type": "code",
   "execution_count": null,
   "metadata": {},
   "outputs": [],
   "source": [
    "PlotImagePlanes(data_raw)"
   ]
  },
  {
   "cell_type": "markdown",
   "metadata": {},
   "source": [
    "## 3. Plot heatmaps for each plane"
   ]
  },
  {
   "cell_type": "code",
   "execution_count": null,
   "metadata": {},
   "outputs": [],
   "source": [
    "img = np.asarray(data_raw[:,:,1,:])\n",
    "img_reshape = np.reshape(img, (np.size(img,0)*np.size(img,1), np.size(img, 2)))\n",
    "img_sort = np.argsort(np.mean(img_reshape, axis=1))\n",
    "img_sort = img_reshape[img_sort, :][-5000:, :]"
   ]
  },
  {
   "cell_type": "code",
   "execution_count": null,
   "metadata": {},
   "outputs": [],
   "source": [
    "fs = plt.figure(figsize=(10, 5))\n",
    "gs = plt.GridSpec(4, 2, width_ratios=[9, 1])\n",
    "ax1 = fs.add_subplot(gs[:2, :1])\n",
    "im = plt.imshow(img_sort, aspect='auto', cmap='jet')  \n",
    "heatmapplotting(ax1, num_bins=4)"
   ]
  },
  {
   "cell_type": "code",
   "execution_count": null,
   "metadata": {},
   "outputs": [],
   "source": [
    "ax2 = fs.add_subplot(gs[:2, 1:])\n",
    "color_bar = plt.colorbar(im, cax=ax2)\n",
    "cbytick_obj = plt.getp(color_bar.ax.axes, 'yticklabels')  \n",
    "plt.setp(cbytick_obj, color='w')\n",
    "    \n",
    "fs = plt.figure(figsize=(10, 5))\n",
    "gs = plt.GridSpec(4, 2, width_ratios=[9, 1])\n",
    "ax2 = fs.add_subplot(gs[:2, :1])\n",
    "ax2.plot(np.mean(img_sort,axis=0))\n",
    "linegraphplotting(ax2, xlim_input=(0, np.size(img_sort, 1)), num_bins=4)\n",
    "plt.show()"
   ]
  },
  {
   "cell_type": "code",
   "execution_count": null,
   "metadata": {},
   "outputs": [],
   "source": [
    "img_reshape = np.reshape"
   ]
  },
  {
   "cell_type": "code",
   "execution_count": null,
   "metadata": {},
   "outputs": [],
   "source": [
    ""
   ]
  }
 ],
 "metadata": {
  "kernelspec": {
   "display_name": "Python 2",
   "language": "python",
   "name": "python2"
  },
  "language_info": {
   "codemirror_mode": {
    "name": "ipython",
    "version": 2.0
   },
   "file_extension": ".py",
   "mimetype": "text/x-python",
   "name": "python",
   "nbconvert_exporter": "python",
   "pygments_lexer": "ipython2",
   "version": "2.7.10"
  }
 },
 "nbformat": 4,
 "nbformat_minor": 0
}