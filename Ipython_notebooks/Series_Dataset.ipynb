{
 "cells": [
  {
   "cell_type": "markdown",
   "metadata": {},
   "source": [
    "# Load Series dataset, plot and run analysis"
   ]
  },
  {
   "cell_type": "markdown",
   "metadata": {},
   "source": [
    "To start this file through pyspark use \n",
    "`$SPARK_HOME/bin/pyspark --jars /Users/seetha/anaconda/lib/python2.7/site-packages/thunder/lib/thunder_2.10-0.5.1.jar --driver-class-path /Users/seetha/anaconda/lib/python2.7/site-packages/thunder/lib/thunder_2.10-0.5.1.jar`"
   ]
  },
  {
   "cell_type": "markdown",
   "metadata": {},
   "source": [
    "## 1. Run thunder"
   ]
  },
  {
   "cell_type": "code",
   "execution_count": 1,
   "metadata": {},
   "outputs": [],
   "source": [
    "# Create new config - To avoid maxResultSize error. Stop Spark context and reload ThunderContext\n",
    "from thunder import ThunderContext\n",
    "from pyspark import SparkConf, SparkContext\n",
    "\n",
    "conf = (SparkConf()\n",
    "    .set(\"spark.driver.maxResultSize\", \"0\"))\n",
    "\n",
    "sc.stop()\n",
    "# Create new thunder context using the configuration\n",
    "tsc = ThunderContext.start(appName=\"thunderpca\", conf=conf)"
   ]
  },
  {
   "cell_type": "markdown",
   "metadata": {},
   "source": [
    "## 2. Get user input"
   ]
  },
  {
   "cell_type": "code",
   "execution_count": 2,
   "metadata": {},
   "outputs": [],
   "source": [
    "#Provide Folder from which to get data\n",
    "foldername = '/Users/seetha/Desktop/Parapineal_Ablation/Data/01_Zoom=2/Tiff/Sorted/Red_First/Fish1159/Block2/'"
   ]
  },
  {
   "cell_type": "markdown",
   "metadata": {},
   "source": [
    "## 3. Load libraries"
   ]
  },
  {
   "cell_type": "code",
   "execution_count": 3,
   "metadata": {},
   "outputs": [],
   "source": [
    "#Matplotlib plots to be inline in the notebook\n",
    "%matplotlib inline"
   ]
  },
  {
   "cell_type": "code",
   "execution_count": 4,
   "metadata": {},
   "outputs": [],
   "source": [
    "#Import Python libraries\n",
    "import matplotlib.pyplot as plt\n",
    "import seaborn as sns\n",
    "import numpy as np\n",
    "import math\n",
    "import os\n",
    "import glob\n",
    "from progressbar import ProgressBar"
   ]
  },
  {
   "cell_type": "code",
   "execution_count": 5,
   "metadata": {},
   "outputs": [],
   "source": [
    "#Set seaborn plotting formats\n",
    "sns.set_style('darkgrid')\n",
    "sns.set_context('notebook')"
   ]
  },
  {
   "cell_type": "code",
   "execution_count": 6,
   "metadata": {},
   "outputs": [],
   "source": [
    "#Import Thunder libraries\n",
    "from thunder import Colorize\n",
    "image = Colorize.image"
   ]
  },
  {
   "cell_type": "markdown",
   "metadata": {},
   "source": [
    "## 4. Decorators"
   ]
  },
  {
   "cell_type": "code",
   "execution_count": 7,
   "metadata": {},
   "outputs": [],
   "source": [
    "# Load series data\n",
    "binaryfolder = os.path.join(foldername, 'Binary_Files')\n",
    "binaryfile = os.path.basename(str(glob.glob(binaryfolder+'/*.bin')[0]))\n",
    "data = tsc.loadSeries(os.path.join(binaryfolder,binaryfile), inputFormat='binary', confFilename='conf.json')"
   ]
  },
  {
   "cell_type": "markdown",
   "metadata": {},
   "source": [
    "## 4. Plot and inspect"
   ]
  },
  {
   "cell_type": "code",
   "execution_count": 8,
   "metadata": {},
   "outputs": [],
   "source": [
    "examples = data.toTimeSeries().normalize()"
   ]
  },
  {
   "cell_type": "code",
   "execution_count": 9,
   "metadata": {},
   "outputs": [],
   "source": [
    "to_plot = examples.mean()"
   ]
  },
  {
   "cell_type": "code",
   "execution_count": 10,
   "metadata": {},
   "outputs": [],
   "source": [
    "def plotting_tools(plotting_function):\n",
    "    def wrapper(*args, **kwargs):\n",
    "        \n",
    "        current_palette = sns.color_palette()\n",
    "        ax1.set_color_cycle(current_palette)\n",
    "\n",
    "\n",
    "        for key, value in kwargs.iteritems():\n",
    "            if key=='xlim_input':\n",
    "                ax1.set_xlim(value)\n",
    "            if key=='num_bins':\n",
    "                ax1.locator_params(axis='y', nbins=value)\n",
    "            if key=='ylim_input':\n",
    "                ax1.set_ylim(value)\n",
    "                \n",
    "        fs.patch.set_facecolor('black')\n",
    "        \n",
    "        for loc, spine in ax1.spines.items():\n",
    "            spine.set_color('white')\n",
    "            spine.set_linewidth(0.5)\n",
    "        \n",
    "        ax1.set_axis_bgcolor('black')\n",
    "        ax1.title.set_color('white')\n",
    "        ax1.yaxis.label.set_color('white')\n",
    "        ax1.xaxis.label.set_color('white')        \n",
    "        ax1.tick_params(axis='both', colors='white', \n",
    "                        direction='out', labelsize=15)        \n",
    "        ax1.get_xaxis().tick_bottom()\n",
    "        ax1.get_yaxis().tick_left()\n",
    "        \n",
    "        plotting_function(*args, **kwargs)\n",
    "        \n",
    "    return wrapper"
   ]
  },
  {
   "cell_type": "code",
   "execution_count": 11,
   "metadata": {},
   "outputs": [
    {
     "data": {
      "image/png": "[encoded data removed]"
     },
     "output_type": "display_data",
     "metadata": {}
    }
   ],
   "source": [
    "fs = plt.figure(figsize=(5,5))\n",
    "ax1 = fs.add_subplot((111))\n",
    "@plotting_tools\n",
    "def plot_mean(fs, ax1, data_to_plot, **kwargs):    \n",
    "    plt.plot(to_plot)\n",
    "    plt.show()\n",
    "    \n",
    "plot_mean(fs, ax1, to_plot, num_bins=5, xlim_input=[0,285])"
   ]
  },
  {
   "cell_type": "code",
   "execution_count": null,
   "metadata": {},
   "outputs": [],
   "source": [
    ""
   ]
  },
  {
   "cell_type": "code",
   "execution_count": null,
   "metadata": {},
   "outputs": [],
   "source": [
    ""
   ]
  }
 ],
 "metadata": {
  "css": [
   ""
  ],
  "kernelspec": {
   "display_name": "Python 2",
   "language": "python",
   "name": "python2"
  },
  "language_info": {
   "codemirror_mode": {
    "name": "ipython",
    "version": 2.0
   },
   "file_extension": ".py",
   "mimetype": "text/x-python",
   "name": "python",
   "nbconvert_exporter": "python",
   "pygments_lexer": "ipython2",
   "version": "2.7.10"
  }
 },
 "nbformat": 4,
 "nbformat_minor": 0
}